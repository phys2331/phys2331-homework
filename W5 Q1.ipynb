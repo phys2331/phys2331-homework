{
 "cells": [
  {
   "attachments": {},
   "cell_type": "markdown",
   "id": "a451df63",
   "metadata": {},
   "source": [
    "# The Question\n",
    "\n",
    "![a cross-section of a capacitor](images/capacitor.png)\n",
    "\n",
    "A capacitor consists of two large metal disks placed a distance $s$ apart (see the figure). The radius $R$ of each disk is 7.8 m, the gap $s$ between the disks is 1.0 mm, and the thickness $t$ of each disk is 0.5 mm. The disk on the left has a net charge of $2.4\\times10^{-4}$ C and the disk on the right has a net charge of $2.4\\times10^{-4}$ C. Calculate the potential difference 𝑉2−𝑉1, where location 1 is inside the left disk at its center, and location 2 is in the center of the air gap between the disks. \n",
    "\n",
    "Use $\\epsilon_0=8.85 \\times 10^{-12}\\, C^2/(N·m^2)$."
   ]
  },
  {
   "cell_type": "markdown",
   "id": "410df376",
   "metadata": {},
   "source": [
    "# What is the problem asking for?\n",
    "\n",
    "A voltage: <mark>Calculate the potential difference 𝑉2−𝑉1</mark>"
   ]
  },
  {
   "cell_type": "markdown",
   "id": "b30137b8",
   "metadata": {},
   "source": [
    "# What equation(s) do we need?\n",
    "\n",
    "This is a voltage question and this is not a circuit (there's no battery or power source mentioned).  So the appropriate equation is\n",
    "\n",
    "$\\Delta V = -\\int\\vec{E}\\cdot\\vec{dl}$\n",
    "\n",
    "We'll follow the Exam 2 rubric to find the voltage:\n",
    "\n",
    " 1. Start from the definition of voltage, $\\Delta V = -\\int_A^B\\vec{E}\\cdot\\vec{dl}$\n",
    " 1. Identify the path A to B\n",
    " 1. Draw the electric field along the path\n",
    " 1. Reduce $\\vec{E}\\cdot\\vec{dl}$ to a scalar quantity by correctly taking the dot product\n",
    " 1. Correctly evaluate the integral\n",
    " 1. Discuss how the voltage calculation fits into the question \n",
    " \n",
    "We have already identified $\\Delta V = -\\int\\vec{E}\\cdot\\vec{dl}$ as the appropriate equation, so that takes care of (1).  There won't be much of a discussion for (6) because the problem is asking directly for the voltage.\n",
    "\n",
    "So let's start on (2) and identify the path!"
   ]
  },
  {
   "cell_type": "markdown",
   "id": "de491273",
   "metadata": {},
   "source": [
    "# (2) Identify the path\n",
    "\n",
    "The problem says, <mark>Calculate the potential difference 𝑉2−𝑉1</mark>. Do we start at location 1, or location 2?\n",
    "\n",
    "A difference is always (final quantity) - (initial quantity).  Since this problem asks for V2 - V1, location 2 is the final locaiton and location 1 is the initial location. So our path looks like:\n",
    "\n",
    "![a cross-section of a capacitor](images/capacitor_plus_path.png)"
   ]
  },
  {
   "attachments": {},
   "cell_type": "markdown",
   "id": "c0cfd5e1",
   "metadata": {},
   "source": [
    "# (3) Draw the electric field along the path\n",
    "\n",
    "To do this we need a lot of information! The most important thing to realize is that the path starts inside the metal plate, so there are two different regions to consider: inside the metal plate, and between the two metal plates.\n",
    "\n",
    "Inside metal, the electric field is always zero (this is actually how physicists define a \"metal\").  \n",
    "\n",
    "In between the two metal plates, the magnitude of the electric field is constant (!!) and given by $E = \\frac{\\sigma}{\\epsilon_0} = \\frac{Q/A}{\\epsilon_0}$, where $Q$ is the total charge on one of the plates and $A$ is the area the charge is spread out over. The symbol $\\sigma$ is pronounced, \"sigma\", and is called the charge density.  For more information on where this equation comes from, see http://hyperphysics.phy-astr.gsu.edu/hbase/electric/elesht.html#c2.\n",
    "\n",
    "I also need the _direction_ of the electric field in between the metal plates.  For this, I turn to the PHeT \"Charges and Fields\" simulation and build a wall of positive charge on the left and a wall of negative charge on the right.  Notice that the electric field between the two walls of charges points to the right:\n",
    "\n",
    "![the electric field inside a capacitor, modeled in phet](images/capacitor_phet.png)\n",
    "\n",
    "Now we have all the information we need to draw the electric field along the path:\n",
    "\n",
    "![the electric field inside a capacitor, modeled in phet](images/capacitor_plus_path_plus_Efield.png)"
   ]
  },
  {
   "cell_type": "markdown",
   "id": "724278b8",
   "metadata": {},
   "source": [
    "# (4) Reduce $\\vec{E}\\cdot\\vec{dl}$ to a scalar by taking the dot product \n",
    "\n",
    "There are two good ways to do this!  \n",
    "\n",
    "## Use $\\vec{a}\\cdot\\vec{b} = |\\vec{a}|*|\\vec{b}|*\\cos\\theta$ - no coordinate system needed\n",
    "\n",
    "The symbol $\\theta$ here means the angle between the two vectors.  Since I am taking $\\vec{E}\\cdot\\vec{dl}$, the angle between the Electric field and the path is 0 degrees in between the plates.  In the metal, the magnitude of the electric field is zero, so the angle isn't really defined. So my dot product looks like\n",
    "\n",
    "\\begin{equation*}\n",
    "\\vec{E}\\cdot\\vec{dl} = \\left\\{\n",
    "        \\begin{array}{ll}\n",
    "            |\\vec{E}|*|\\vec{dl}|*\\cos ? = 0*\\cos ? * |\\vec{dl}| = 0*dl & \\quad in\\,metal \\\\\n",
    "            |\\vec{E}|*|\\vec{dl}|*\\cos 0 = E*dl & \\quad between\n",
    "        \\end{array}\n",
    "    \\right.\n",
    "\\end{equation*}\n",
    "\n",
    "Where in the final step I've dropped the vector symbols to indicate that these are magnitudes.  We often do this in physics even though it's less clear!\n",
    "\n",
    "## Use $\\vec{a}\\cdot\\vec{b} = a_x*b_x + a_y*b_y+ a_z*b_z$ - coordinate system needed!\n",
    "\n",
    "With this method, we need to first assign a coordinate system:\n",
    "\n",
    "![the electric field inside a capacitor, modeled in phet](images/capacitor_plus_path_plus_Efield_plus_axis.png)\n",
    "\n",
    "And then we can write our vectors using that coordinate system.  Between the plates, we have\n",
    "\n",
    "$\\vec{E}\\cdot\\vec{dl} = \\langle \\frac{Q/A}{\\epsilon_0}, 0, 0\\rangle \\cdot \\langle dx, dy, dz\\rangle = \\frac{Q/A}{\\epsilon_0} dx + 0 dy + 0 dz =\\frac{Q/A}{\\epsilon_0} dx $\n",
    "\n",
    "Inside the metal, we have\n",
    "\n",
    "$\\vec{E}\\cdot\\vec{dl} = \\langle 0, 0, 0\\rangle \\cdot \\langle dx, dy, dz\\rangle = 0 dx + 0 dy + 0 dz$"
   ]
  },
  {
   "cell_type": "markdown",
   "id": "1e45cac4",
   "metadata": {},
   "source": [
    "# (5) Integrate\n",
    "\n",
    "The voltage is $\\Delta V = -\\int\\vec{E}\\cdot\\vec{dl} = -\\int\\vec{E}_{inside\\,metal}\\cdot\\vec{dl} -\\int\\vec{E}_{between\\,plates}\\cdot\\vec{dl}$\n",
    "\n",
    "I'm going to integrate the expression I got from doing the dot product with coordinates, but you can do the integral with the other expression also!\n",
    "\n",
    "One of the things I need to add are the integration limits, which I get by looking at the path.  I set my origin as the inside of the metal plate, but you can put your origin anywhere.\n",
    "\n",
    "$\\Delta V = -\\int\\vec{E}_{inside\\,metal}\\cdot\\vec{dl} -\\int\\vec{E}_{between\\,plates}\\cdot\\vec{dl}$\n",
    "\n",
    "$\\Delta V = -\\int_0^{s/2}\\frac{Q/A}{\\epsilon_0} dx -\\int (0 dx + 0 dy + 0 dz)$\n",
    "\n",
    "Notice that I haven't put limits on the second integral - that's because they won't matter.  Let's pull the constants out in front of the integrals:\n",
    "\n",
    "$\\Delta V = -\\frac{Q/A}{\\epsilon_0}\\int_0^{s/2} dx -0\\int dx - 0\\int dy - 0\\int dz$\n",
    "\n",
    "Now we need to know two things: (1) $\\int dx = x$ and (2) zero times anything finite is zero.\n",
    "\n",
    "$\\Delta V = -\\frac{Q/A}{\\epsilon_0}x|_0^{s/2} = -\\frac{Q/A}{\\epsilon_0}*(s/2 - 0) = -\\frac{Q/A}{\\epsilon_0}*(s/2)$"
   ]
  },
  {
   "cell_type": "markdown",
   "id": "f034d239",
   "metadata": {},
   "source": [
    "# (6) Discuss how the voltage relates to the answer\n",
    "\n",
    "In this case the voltage is exactly the answer we're looking for, so I'll just go ahead and calculate it!"
   ]
  },
  {
   "cell_type": "code",
   "execution_count": 5,
   "id": "4a76efb9",
   "metadata": {},
   "outputs": [],
   "source": [
    "from scipy import constants\n",
    "import numpy as np\n",
    "\n",
    "R = 7.8\n",
    "s = 1E-3\n",
    "Q = 2.4E-4"
   ]
  },
  {
   "cell_type": "code",
   "execution_count": 6,
   "id": "8ae7eae8",
   "metadata": {},
   "outputs": [],
   "source": [
    "voltage = -Q/(np.pi*R**2)/constants.epsilon_0 * s/2"
   ]
  },
  {
   "cell_type": "code",
   "execution_count": 7,
   "id": "a840ef75",
   "metadata": {},
   "outputs": [
    {
     "name": "stdout",
     "output_type": "stream",
     "text": [
      "-70.9077064478199\n"
     ]
    }
   ],
   "source": [
    "print (voltage)"
   ]
  },
  {
   "cell_type": "code",
   "execution_count": null,
   "id": "7a32fbb9",
   "metadata": {},
   "outputs": [],
   "source": []
  }
 ],
 "metadata": {
  "kernelspec": {
   "display_name": "Python 3 (ipykernel)",
   "language": "python",
   "name": "python3"
  },
  "language_info": {
   "codemirror_mode": {
    "name": "ipython",
    "version": 3
   },
   "file_extension": ".py",
   "mimetype": "text/x-python",
   "name": "python",
   "nbconvert_exporter": "python",
   "pygments_lexer": "ipython3",
   "version": "3.9.12"
  }
 },
 "nbformat": 4,
 "nbformat_minor": 5
}
