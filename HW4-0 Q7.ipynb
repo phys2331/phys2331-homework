{
 "cells": [
  {
   "attachments": {},
   "cell_type": "markdown",
   "id": "f4c12f42",
   "metadata": {},
   "source": [
    "# The Question\n",
    "A Geiger tube, used to detect radioactive decays, contains a long thin metal wire, surrounded by a concentric long narrow metal tube. Insulating spokes hold the wire in the center of the tube and prevent electrical contact between the wire and the tube. A variable power supply is connected to the device as shown. Normally no current flows, because the tube and wire are not connected to each other. The power supply maintains opposite charges on the wire and the tube.\n",
    "\n",
    "![geiger_tube.png](images/geiger_tube.png)\n",
    "\n",
    "(a) The electric field in the space between the wire and the outer tube is due only to the wire (the contribution due to the charges on the outer tube adds up to zero). When the electric field at any location in air reaches 3e6 volts/meter, the air ionizes and becomes a conductor. For the tube shown, the length 𝐿= 88 cm, the inner radius 𝑟= 0.6 mm, and the outer radius 𝑅= 2.5 cm. How much charge would there need to be on the inner wire in order to ionize the air near the wire (where the field is largest)?\n",
    " \n",
    "(b) When there is enough charge on the wire to ionize the air, you see a glow in the air very near the inner wire. When this happens, what is the absolute value of the potential difference along a path from the inner wire to the outer tube? (Note that the electric field in this region is not uniform.)"
   ]
  },
  {
   "cell_type": "markdown",
   "id": "791ede48",
   "metadata": {},
   "source": [
    "# What is part (a) asking for?\n",
    "Part (a) asks for the charge that must be on the inner wire to create an electric field of 3E6 V/m at the surface of the wire."
   ]
  },
  {
   "attachments": {},
   "cell_type": "markdown",
   "id": "0699fe69",
   "metadata": {},
   "source": [
    "# What equation(s) do we use for Part (a)?\n",
    "Usually when we're calculating an electric field, we use $\\vec{E} = \\frac{kq}{r^2}\\hat{r}$.  But this equation would be tough to use here because this is the equation for a single point charge.  Here, we have a bunch of point charges - all along the inner wire, and all over the outer tube.\n",
    "\n",
    "So we should use equations that describe the electric field for these charge distributions.\n",
    "\n",
    "The problem tells us that when we are inside the tube, the charge on the tube contributes no net electric field:\n",
    "\n",
    "> The electric field in the space between the wire and the outer tube is due only to the wire (<mark>the contribution due to the charges on the outer tube adds up to zero</mark>).\n",
    "\n",
    "For the wire, I will use the equation for an infinitely long line of charge, $E = \\frac{Q}{2L\\pi\\epsilon_0}$:\n",
    "\n",
    "![electric_field_wire_hyperphysics.png](images/electric_field_wire_hyperphysics.png)\n",
    "\n",
    "(Image from http://hyperphysics.phy-astr.gsu.edu/hbase/electric/elelin.html)."
   ]
  },
  {
   "cell_type": "markdown",
   "id": "3102efe9",
   "metadata": {},
   "source": [
    "# Calculating Part (a)"
   ]
  },
  {
   "cell_type": "code",
   "execution_count": 1,
   "id": "14c4a156",
   "metadata": {},
   "outputs": [],
   "source": [
    "# here we are asked to find the charge needed to create a certain electric field\n",
    "\n",
    "# this desired electric field is the field at which air breaks down, \n",
    "# we want to be near the \"breakdown\" threshold for the geiger counter to work\n",
    "E = 3E6 \n",
    "\n",
    "# now I'll define constants needed for the electric field equation,\n",
    "# E = Q/2*L*pi*e_0*z\n",
    "# note that I don't know Q - that's what I need to solve for\n",
    "# L comes from the problem statement\n",
    "# I also get z from the problem statement:\n",
    "# \"How much charge would there need to be on the inner wire in order to ionize the air **near the wire**\"\n",
    "# So I use the inner radius of the wire as z\n",
    "L = 88E-2\n",
    "r = 0.6E-3"
   ]
  },
  {
   "cell_type": "code",
   "execution_count": 9,
   "id": "d2b660d3",
   "metadata": {},
   "outputs": [],
   "source": [
    "# Now we'll solve for Q\n",
    "from scipy import constants\n",
    "import numpy as np\n",
    "\n",
    "# There is a mistake in the equation below - a variable is missing!\n",
    "# The answer for Q should be 8.8E-8 C\n",
    "# Can you fix the equation?\n",
    "Q = E*2*L*np.pi*constants.epsilon_0*r"
   ]
  },
  {
   "cell_type": "code",
   "execution_count": 10,
   "id": "f5f6f450",
   "metadata": {},
   "outputs": [
    {
     "name": "stdout",
     "output_type": "stream",
     "text": [
      "8.812188439147133e-08\n"
     ]
    }
   ],
   "source": [
    "print (Q)"
   ]
  },
  {
   "cell_type": "markdown",
   "id": "406bda2e",
   "metadata": {},
   "source": [
    "# What is Part (b) asking for?\n",
    "Part (b) is asking for the voltage when walking from the inner wire to the outer tube.  The orange arrows on the diagram below show the path.  We will assume this is along the z-axis.\n",
    "\n",
    "![geiger_tube.png](images/geiger_tube_path.png)"
   ]
  },
  {
   "cell_type": "markdown",
   "id": "0f6dd464",
   "metadata": {},
   "source": [
    "# What equation(s) do we use for Part (b)?\n",
    "Since part (b) is asking for the voltage, the appropriate equation is $\\Delta V = -\\int_A^B\\vec{E}\\cdot\\vec{dl}$."
   ]
  },
  {
   "cell_type": "markdown",
   "id": "b36c3043",
   "metadata": {},
   "source": [
    "# Can we find the voltage?\n",
    "To find the voltage, we need to know the path and the electric field along that path. The path is drawn above.  Part (a) helped us find the electric field along the path, $\\vec{E} = \\langle 0, 0, \\frac{Q}{2L\\pi\\epsilon_0 z}\\rangle$.  Notice that we know $Q$ and $L$ and that z is a variable that means the distance from the wire.\n",
    "\n",
    "So we can write the voltage equation as\n",
    "\n",
    "$\\Delta V = -\\int_r^R \\langle 0, 0, \\frac{Q}{2L\\pi\\epsilon_0 z}\\rangle \\cdot \\langle dx, dy, dz \\rangle = -\\int_r^R \\frac{Q}{2L\\pi\\epsilon_0 z} dz = -\\frac{Q}{2L\\pi\\epsilon_0}\\int_r^R \\frac{dz}{z}$"
   ]
  },
  {
   "cell_type": "markdown",
   "id": "a36e3922",
   "metadata": {},
   "source": [
    "# Do the calculation for Part (b)\n",
    "This is an \"analytic\" calculation, and usually I use Mathematica for analytic calculations.  We can do integrals in python using a library called sympy, but it's really slow, so I'll do this integral by hand!\n",
    "\n",
    "$\\Delta V= -\\frac{Q}{2L\\pi\\epsilon_0}\\int_r^R \\frac{dz}{z} = -\\frac{Q}{2L\\pi\\epsilon_0}\\ln{z}|_r^R = -\\frac{Q}{2L\\pi\\epsilon_0}*(\\ln{R} - \\ln{r}) = -\\frac{Q}{2L\\pi\\epsilon_0}\\ln{\\frac{R}{r}}$"
   ]
  },
  {
   "cell_type": "code",
   "execution_count": 4,
   "id": "347245c2",
   "metadata": {},
   "outputs": [],
   "source": [
    "# note that we found Q in Part (a)\n",
    "# I'll redefine the length parameters here\n",
    "# just so this section makes more sense on its own\n",
    "L = 88E-2\n",
    "r = 0.6E-3\n",
    "R = 2.5E-2"
   ]
  },
  {
   "cell_type": "code",
   "execution_count": 5,
   "id": "2a291a9d",
   "metadata": {},
   "outputs": [],
   "source": [
    "from scipy import constants\n",
    "import numpy as np"
   ]
  },
  {
   "cell_type": "code",
   "execution_count": 7,
   "id": "3830dbf4",
   "metadata": {},
   "outputs": [],
   "source": [
    "# Note that np.log() takes the natural logarithm (base e)\n",
    "# Which is what we want here\n",
    "V = (-Q/(2*L*np.pi*constants.epsilon_0)) * np.log(R/r)"
   ]
  },
  {
   "cell_type": "code",
   "execution_count": 8,
   "id": "f189ac31",
   "metadata": {},
   "outputs": [
    {
     "name": "stdout",
     "output_type": "stream",
     "text": [
      "-0.0022378208691805146\n"
     ]
    }
   ],
   "source": [
    "print (V)"
   ]
  },
  {
   "cell_type": "code",
   "execution_count": null,
   "id": "28073b2a",
   "metadata": {},
   "outputs": [],
   "source": []
  }
 ],
 "metadata": {
  "kernelspec": {
   "display_name": "Python 3 (ipykernel)",
   "language": "python",
   "name": "python3"
  },
  "language_info": {
   "codemirror_mode": {
    "name": "ipython",
    "version": 3
   },
   "file_extension": ".py",
   "mimetype": "text/x-python",
   "name": "python",
   "nbconvert_exporter": "python",
   "pygments_lexer": "ipython3",
   "version": "3.9.12"
  }
 },
 "nbformat": 4,
 "nbformat_minor": 5
}
