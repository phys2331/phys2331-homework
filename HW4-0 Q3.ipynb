{
 "cells": [
  {
   "cell_type": "markdown",
   "id": "df2f5c8d",
   "metadata": {},
   "source": [
    "# The Question\n",
    "\n",
    "If the electric field exceeds about $3 × 10^6$ N/C in air, a spark occurs. Approximately, what is the maximum possible potential difference between the plates of a capacitor whose gap is 6 mm, without causing a spark in the air between them?"
   ]
  },
  {
   "cell_type": "markdown",
   "id": "ef5f39cc",
   "metadata": {},
   "source": [
    "# What is the problem asking for?\n",
    "\n",
    "This problem is asking for a potential difference, so the relevant equation is $\\Delta V = -\\int \\vec{E}\\cdot\\vec{dl}$."
   ]
  },
  {
   "cell_type": "markdown",
   "id": "b120aa9d",
   "metadata": {},
   "source": [
    "# Do you know $\\vec{E}$?\n",
    "\n",
    "Yes.  The problem states that a spark occurs above $3\\times10^6$ N/C.  We should use this value as our electric field.  The problem also says that we're considering the space in between the plates of a capacitor - what they're telling us here is that the electric field is uniform/a constant."
   ]
  },
  {
   "attachments": {},
   "cell_type": "markdown",
   "id": "06a3f97a",
   "metadata": {},
   "source": [
    "# Can you evaluate $-\\int\\vec{E}\\cdot\\vec{dl}$ to get the voltage $\\Delta V$?\n",
    "\n",
    "Let's try.  Here is my picture of the setup:\n",
    "![our path in between the capacitor plates](images/capacitor_path.png)\n",
    "\n",
    "## First, simplify the dot product\n",
    "There are two equations you can use when taking the dot product:\n",
    "\n",
    "$\\vec{a}\\cdot\\vec{b} = <a_x, a_y, a_z> \\cdot <b_x, b_y, b_z> = a_x*b_x + a_y*b_y + a_z*b_z$\n",
    "\n",
    "OR\n",
    "\n",
    "$\\vec{a}\\cdot\\vec{b} = |\\vec{a}|*|\\vec{b}|*\\cos(\\theta)$, where $\\theta$ is the angle between the two vectors.\n",
    "\n",
    "We could use either formula here, but I'm going to use the second because the problem gives us an electric field magnitude, and by drawing the path and the capacitor I can see the angle between the electric field vector and the path vector.\n",
    "\n",
    "$$\n",
    "\\begin{equation}\n",
    "\\begin{aligned}\n",
    "\\Delta V &= -\\int \\vec{E}\\cdot\\vec{dl}\\\\\n",
    "& = -\\int |\\vec{E}|*|\\vec{dl}|*\\cos(180) \\\\\n",
    "& = -\\int 3\\times10^6 N/C * |\\vec{dl}| * -1 \\\\\n",
    "& = +3\\times10^6 N/C \\int |\\vec{dl}| \\\\\n",
    "& = +3\\times10^6 N/C * (total\\, distance)\\\\\n",
    "\\end{aligned}\n",
    "\\end{equation}\n",
    "$$\n",
    "\n",
    "In the last line I claim that $\\int |\\vec{dl}| = total\\, distance$ because the integral tells me to add up the magnitude of all the small steps I take - and that's the same as the total distance I travel.\n",
    "\n",
    "## Then, find the total distance\n",
    "The problem says that the gap between the capacitor's plates is 6 mm.  That's the total distance I need to travel to determine the potential across the plates"
   ]
  },
  {
   "cell_type": "markdown",
   "id": "43261ee6",
   "metadata": {},
   "source": [
    "# Doing the calculation"
   ]
  },
  {
   "cell_type": "code",
   "execution_count": 2,
   "id": "7af47015",
   "metadata": {},
   "outputs": [],
   "source": [
    "E_mag = 3E6\n",
    "total_distance = 6E-3"
   ]
  },
  {
   "cell_type": "code",
   "execution_count": 3,
   "id": "02cbbf5b",
   "metadata": {},
   "outputs": [],
   "source": [
    "potential_difference = E_mag*total_distance"
   ]
  },
  {
   "cell_type": "code",
   "execution_count": null,
   "id": "e35c25f1",
   "metadata": {},
   "outputs": [],
   "source": [
    "print (potential_difference)"
   ]
  }
 ],
 "metadata": {
  "kernelspec": {
   "display_name": "Python 3 (ipykernel)",
   "language": "python",
   "name": "python3"
  },
  "language_info": {
   "codemirror_mode": {
    "name": "ipython",
    "version": 3
   },
   "file_extension": ".py",
   "mimetype": "text/x-python",
   "name": "python",
   "nbconvert_exporter": "python",
   "pygments_lexer": "ipython3",
   "version": "3.9.12"
  }
 },
 "nbformat": 4,
 "nbformat_minor": 5
}
