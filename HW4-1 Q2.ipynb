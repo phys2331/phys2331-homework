{
 "cells": [
  {
   "cell_type": "markdown",
   "id": "b6b48a1d",
   "metadata": {},
   "source": [
    "# The Problem\n",
    "\n",
    "If the electric field exceeds about 3 × 106 N/C in air, a spark occurs. Approximately, what is the maximum possible potential difference between the plates of a capacitor whose gap is 1 mm, without causing a spark in the air between them?"
   ]
  },
  {
   "cell_type": "markdown",
   "id": "4395f4ae",
   "metadata": {},
   "source": [
    "# The solution\n",
    "\n",
    "This problem is identical to HW4-0 Q3.  Please refer to [this page](https://github.com/phys2331/phys2331-homework/blob/main/HW4-0%20Q3.ipynb) for the solution."
   ]
  },
  {
   "cell_type": "code",
   "execution_count": null,
   "id": "1968b42b",
   "metadata": {},
   "outputs": [],
   "source": []
  }
 ],
 "metadata": {
  "kernelspec": {
   "display_name": "Python 3 (ipykernel)",
   "language": "python",
   "name": "python3"
  },
  "language_info": {
   "codemirror_mode": {
    "name": "ipython",
    "version": 3
   },
   "file_extension": ".py",
   "mimetype": "text/x-python",
   "name": "python",
   "nbconvert_exporter": "python",
   "pygments_lexer": "ipython3",
   "version": "3.9.12"
  }
 },
 "nbformat": 4,
 "nbformat_minor": 5
}
