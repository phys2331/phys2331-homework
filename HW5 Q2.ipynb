{
 "cells": [
  {
   "cell_type": "markdown",
   "id": "1adfdb7e",
   "metadata": {},
   "source": [
    "# The problem\n",
    "\n",
    "This problem is identical to HW4 Q7, please see that notebook for further information."
   ]
  },
  {
   "cell_type": "code",
   "execution_count": null,
   "id": "89dc15fb",
   "metadata": {},
   "outputs": [],
   "source": []
  }
 ],
 "metadata": {
  "kernelspec": {
   "display_name": "Python 3 (ipykernel)",
   "language": "python",
   "name": "python3"
  },
  "language_info": {
   "codemirror_mode": {
    "name": "ipython",
    "version": 3
   },
   "file_extension": ".py",
   "mimetype": "text/x-python",
   "name": "python",
   "nbconvert_exporter": "python",
   "pygments_lexer": "ipython3",
   "version": "3.9.12"
  }
 },
 "nbformat": 4,
 "nbformat_minor": 5
}
