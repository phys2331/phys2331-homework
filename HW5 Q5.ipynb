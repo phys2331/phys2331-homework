{
 "cells": [
  {
   "cell_type": "markdown",
   "id": "5592c41d",
   "metadata": {},
   "source": [
    "# The question\n",
    "\n",
    "A certain capacitor has rectangular plates 59 cm by 20 cm, and the gap width is 0.32 mm. What is its capacitance? \n",
    "\n",
    "We see that typical capacitances are very small when measured in farads. A one-farad capacitor is quite extraordinary! Apparently it has a very large area $A$ (all wrapped up in a small package), and a very small gap $s$."
   ]
  },
  {
   "cell_type": "markdown",
   "id": "bcee7b0e",
   "metadata": {},
   "source": [
    "# The solution\n",
    "\n",
    "This question is asking for the capacitance of something called a \"parallel plate capacitor\".  If you know this terminology, the answer is easy to look up on google!\n",
    "\n",
    "The site http://hyperphysics.phy-astr.gsu.edu/hbase/electric/pplate.html tells me that the expression for the capacitance of this capacitor is\n",
    "\n",
    "$C = \\frac{\\epsilon_0 A}{d}$, where $\\epsilon_0 = 8.854\\times 10^{-12}\\, Farads/m$ is the permittivity of vacuum, $A$ is the area of one of the plates, and $d$ is the distance between the plates."
   ]
  },
  {
   "cell_type": "markdown",
   "id": "145143a2",
   "metadata": {},
   "source": [
    "# Calculating the answer"
   ]
  },
  {
   "cell_type": "code",
   "execution_count": 4,
   "id": "4b00f67a",
   "metadata": {},
   "outputs": [],
   "source": [
    "from scipy import constants\n",
    "\n",
    "length = 59E-2\n",
    "width = 20E-2\n",
    "d = 0.32E-3"
   ]
  },
  {
   "cell_type": "code",
   "execution_count": 5,
   "id": "a5f8f459",
   "metadata": {},
   "outputs": [],
   "source": [
    "C = constants.epsilon_0*length*width/d"
   ]
  },
  {
   "cell_type": "code",
   "execution_count": 6,
   "id": "76652e59",
   "metadata": {},
   "outputs": [
    {
     "name": "stdout",
     "output_type": "stream",
     "text": [
      "3.2649817559700005e-09\n"
     ]
    }
   ],
   "source": [
    "# Notice that this answer is in Farads, the SI unit\n",
    "# for capacitance\n",
    "print (C)"
   ]
  },
  {
   "cell_type": "markdown",
   "id": "707300e5",
   "metadata": {},
   "source": [
    "# Getting the answer from the equations on your equation sheet\n",
    "\n",
    "Where does this equation come from?\n",
    "\n",
    "To get this capacitance equation, we need to combine the definition of capacitance, $ C = Q/V$, with the definition for voltage, $\\Delta V = V = -\\int\\vec{E}\\cdot\\vec{dl}$\n",
    "\n",
    "So deriving this equation comes down to assuming two parallel plates have charge Q and -Q, and calculating the voltage when we walk from one plate to another.\n",
    "\n",
    "Here is my picture of the setup:\n",
    "![our path in between the capacitor plates](images/capacitor_path.png)\n",
    "\n",
    "For an in-depth discussion of how to calculate the electric field and the voltage across two metal plates, see HW5 Q1.\n",
    "\n",
    "Once you have that voltage, plugging it into $ C = Q/V$ should get you to the capacitance equation above."
   ]
  },
  {
   "cell_type": "code",
   "execution_count": null,
   "id": "a70750df",
   "metadata": {},
   "outputs": [],
   "source": []
  }
 ],
 "metadata": {
  "kernelspec": {
   "display_name": "Python 3 (ipykernel)",
   "language": "python",
   "name": "python3"
  },
  "language_info": {
   "codemirror_mode": {
    "name": "ipython",
    "version": 3
   },
   "file_extension": ".py",
   "mimetype": "text/x-python",
   "name": "python",
   "nbconvert_exporter": "python",
   "pygments_lexer": "ipython3",
   "version": "3.9.12"
  }
 },
 "nbformat": 4,
 "nbformat_minor": 5
}
