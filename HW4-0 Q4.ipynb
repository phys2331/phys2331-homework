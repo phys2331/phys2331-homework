{
 "cells": [
  {
   "attachments": {},
   "cell_type": "markdown",
   "id": "ecab0ae9",
   "metadata": {},
   "source": [
    "# The Question\n",
    "In an old-style television picture tube (not in a modern flat-panel TV) electrons are boiled out of a very hot metal filament placed near a negative metal plate (see the figure). These electrons start out nearly at rest and are accelerated toward a positive metal plate. They pass through a hole in the positive plate on their way toward the picture screen. If the high-voltage supply in the television set maintains a potential difference of 12700 volts between the two plates, what speed do the electrons reach? (You can use the nonrelativistic approximation here.)\n",
    "\n",
    "![particle_accelerator.png](images/particle_accelerator.png)"
   ]
  },
  {
   "cell_type": "markdown",
   "id": "58b99abf",
   "metadata": {},
   "source": [
    "# What does chatGPT say?\n",
    "\n",
    "If I ask chatGPT this exact question, here is the response:\n",
    "\n",
    "> To find the speed of electrons in an old-style television picture tube, we can use the principles of electrostatics and energy conservation.\n",
    ">\n",
    "> First, let's calculate the kinetic energy (KE) of the electrons when they pass through the potential difference (V) of 12,700 volts. The kinetic energy gained by the electrons is equal to the work done on them by the electric field.\n",
    ">\n",
    "> The formula for kinetic energy is:\n",
    ">\n",
    "> KE = 1/2 * m * v^2\n",
    ">\n",
    "> Where:\n",
    "> KE = Kinetic energy\n",
    "> m = Mass of the electron (approximately 9.10938356 x 10^-31 kg)\n",
    "> v = Velocity of the electron\n",
    ">\n",
    "> The work done by the electric field is given by:\n",
    ">\n",
    "> W = q * V\n",
    ">\n",
    "> Where:\n",
    "> W = Work done\n",
    "> q = Charge of the electron (approximately -1.60217663 x 10^-19 C, with a negative sign because electrons are negatively charged)\n",
    "> V = Potential difference (12,700 volts)\n",
    ">\n",
    "> Now, we can set the work done equal to the change in kinetic energy:\n",
    ">\n",
    "> W = KE_final - KE_initial\n",
    ">\n",
    "> Since the electrons start nearly at rest, the initial kinetic energy (KE_initial) is zero. So:\n",
    ">\n",
    "> W = KE_final\n",
    "> \n",
    "> Now, we can substitute the values for W and q:\n",
    ">\n",
    "> q * V = 1/2 * m * v^2\n",
    ">\n",
    "> -1.60217663 x 10^-19 C * 12,700 V = 1/2 * 9.10938356 x 10^-31 kg * v^2\n",
    ">\n",
    "> Now, solve for v:\n",
    ">\n",
    "> v^2 = (2 * -1.60217663 x 10^-19 C * 12,700 V) / (9.10938356 x 10^-31 kg)\n",
    ">\n",
    "> v^2 ≈ -4.57882 x 10^11 m^2/s^2\n",
    ">\n",
    ">Taking the square root of both sides:\n",
    ">\n",
    "> v ≈ ± 2.1396 x 10^5 m/s\n",
    ">\n",
    "> Since we're looking for the speed, we take the positive value:\n",
    ">\n",
    "> v ≈ 2.1396 x 10^5 m/s\n",
    ">\n",
    "> So, the speed of the electrons when they reach the positive metal plate is approximately 2.1396 x 10^5 meters per second."
   ]
  },
  {
   "cell_type": "markdown",
   "id": "d6409da0",
   "metadata": {},
   "source": [
    "# Is chatGPT correct?\n",
    "Overall, chatGPT's explanation is excellent!  However, I have two concerns: \n",
    "\n",
    "(1) sometimes chatGPT makes mistakes with calculations, so I'm going to repeat them and see what number I get.\n",
    "\n",
    "(2) The negatives and positives are easy to get wrong in this problem.  Do you see how chatGPT suggests we take the square root of a negative number?  That's definitely not correct."
   ]
  },
  {
   "cell_type": "markdown",
   "id": "f8d85d09",
   "metadata": {},
   "source": [
    "# Correcting chatGPT's signs\n",
    "\n",
    "The way I think of this problem is: I'm looking for the velocity, so I'm going to use the idea that kinetic energy is mv^2/2 and that the total change of the energy in a system should be zero:\n",
    "\n",
    "Change in potential energy + Change in kinetic energy = 0\n",
    "\n",
    "The change in potential energy is $q\\Delta V$.  And the change in kinetic energy is just like chatGPT said, $KE_{final} - KE_{initial}$\n",
    "\n",
    "$q\\Delta V + KE_{final} - KE_{initial} = 0$\n",
    "\n",
    "ChatGPT suggests we estimate the initial kinetic energy of the electrons as zero, and that's what the book expects you to do.  So our equation is now\n",
    "\n",
    "$q\\Delta V + KE_{final} - 0 = 0$\n",
    "\n",
    "Now I'll substitue in mv^2/2 for the final kinetic energy:\n",
    "\n",
    "$q\\Delta V + \\frac{1}{2}mv^2 - 0 = 0$\n",
    "\n",
    "And we can solve for the velocity $v$:\n",
    "\n",
    "$v = \\sqrt{\\frac{-2q\\Delta V}{m}}$\n",
    "\n",
    "Now let's do the calculation and see what number we get.  "
   ]
  },
  {
   "cell_type": "markdown",
   "id": "b51557a1",
   "metadata": {},
   "source": [
    "# Doing the calculation"
   ]
  },
  {
   "cell_type": "code",
   "execution_count": 6,
   "id": "cf854c92",
   "metadata": {},
   "outputs": [],
   "source": [
    "from scipy import constants\n",
    "import numpy as np"
   ]
  },
  {
   "cell_type": "code",
   "execution_count": 7,
   "id": "ce2cdfa0",
   "metadata": {},
   "outputs": [],
   "source": [
    "# Define constants\n",
    "q = -1*constants.elementary_charge\n",
    "V = 12700\n",
    "m = constants.electron_mass"
   ]
  },
  {
   "cell_type": "code",
   "execution_count": 8,
   "id": "afc10c98",
   "metadata": {},
   "outputs": [],
   "source": [
    "# I'll use the equation \n",
    "# q*V = -mv^2/2\n",
    "# notice that I'm taking the square root of a positive number!\n",
    "v = np.sqrt(-2*q*V/m)"
   ]
  },
  {
   "cell_type": "code",
   "execution_count": 9,
   "id": "fc042d18",
   "metadata": {},
   "outputs": [
    {
     "name": "stdout",
     "output_type": "stream",
     "text": [
      "66838632.746049605\n"
     ]
    }
   ],
   "source": [
    "print (v)"
   ]
  },
  {
   "cell_type": "markdown",
   "id": "51b4ad58",
   "metadata": {},
   "source": [
    "# Is this reasonable?\n",
    "This is pretty fast!  This says the electron is traveling 6.7E7 m/s!  \n",
    "\n",
    "But at least it's slower than the speed of light, 3E8 m/s.\n",
    "\n",
    "And electrons are pretty light, so it does seem reasonable that it would end up going pretty fast after kicking it."
   ]
  },
  {
   "cell_type": "code",
   "execution_count": null,
   "id": "d7e7d262",
   "metadata": {},
   "outputs": [],
   "source": []
  }
 ],
 "metadata": {
  "kernelspec": {
   "display_name": "Python 3 (ipykernel)",
   "language": "python",
   "name": "python3"
  },
  "language_info": {
   "codemirror_mode": {
    "name": "ipython",
    "version": 3
   },
   "file_extension": ".py",
   "mimetype": "text/x-python",
   "name": "python",
   "nbconvert_exporter": "python",
   "pygments_lexer": "ipython3",
   "version": "3.9.12"
  }
 },
 "nbformat": 4,
 "nbformat_minor": 5
}
